{
 "cells": [
  {
   "cell_type": "code",
   "execution_count": 28,
   "metadata": {
    "collapsed": true
   },
   "outputs": [],
   "source": [
    "import pandas as pd\n",
    "import numpy as np\n",
    "import datetime as dt\n",
    "import matplotlib.pyplot as plt"
   ]
  },
  {
   "cell_type": "code",
   "execution_count": 29,
   "metadata": {
    "collapsed": true
   },
   "outputs": [],
   "source": [
    "%matplotlib inline"
   ]
  },
  {
   "cell_type": "code",
   "execution_count": 44,
   "metadata": {},
   "outputs": [],
   "source": [
    "data = pd.read_csv('MTA_130831_Pivotdown.txt')"
   ]
  },
  {
   "cell_type": "markdown",
   "metadata": {},
   "source": [
    "## Let's take a look"
   ]
  },
  {
   "cell_type": "code",
   "execution_count": 45,
   "metadata": {},
   "outputs": [
    {
     "data": {
      "text/html": [
       "<div>\n",
       "<style>\n",
       "    .dataframe thead tr:only-child th {\n",
       "        text-align: right;\n",
       "    }\n",
       "\n",
       "    .dataframe thead th {\n",
       "        text-align: left;\n",
       "    }\n",
       "\n",
       "    .dataframe tbody tr th {\n",
       "        vertical-align: top;\n",
       "    }\n",
       "</style>\n",
       "<table border=\"1\" class=\"dataframe\">\n",
       "  <thead>\n",
       "    <tr style=\"text-align: right;\">\n",
       "      <th></th>\n",
       "      <th>C_A</th>\n",
       "      <th>UNIT</th>\n",
       "      <th>SCP</th>\n",
       "      <th>date</th>\n",
       "      <th>time</th>\n",
       "      <th>desc</th>\n",
       "      <th>entries</th>\n",
       "      <th>exits</th>\n",
       "    </tr>\n",
       "  </thead>\n",
       "  <tbody>\n",
       "    <tr>\n",
       "      <th>0</th>\n",
       "      <td>A002</td>\n",
       "      <td>R051</td>\n",
       "      <td>02-00-00</td>\n",
       "      <td>08/24/2013</td>\n",
       "      <td>0:00:00</td>\n",
       "      <td>REGULAR</td>\n",
       "      <td>4246425</td>\n",
       "      <td>1454237</td>\n",
       "    </tr>\n",
       "    <tr>\n",
       "      <th>1</th>\n",
       "      <td>A002</td>\n",
       "      <td>R051</td>\n",
       "      <td>02-00-00</td>\n",
       "      <td>08/24/2013</td>\n",
       "      <td>4:00:00</td>\n",
       "      <td>REGULAR</td>\n",
       "      <td>4246460</td>\n",
       "      <td>1454243</td>\n",
       "    </tr>\n",
       "    <tr>\n",
       "      <th>2</th>\n",
       "      <td>A002</td>\n",
       "      <td>R051</td>\n",
       "      <td>02-00-00</td>\n",
       "      <td>08/24/2013</td>\n",
       "      <td>8:00:00</td>\n",
       "      <td>REGULAR</td>\n",
       "      <td>4246476</td>\n",
       "      <td>1454267</td>\n",
       "    </tr>\n",
       "    <tr>\n",
       "      <th>3</th>\n",
       "      <td>A002</td>\n",
       "      <td>R051</td>\n",
       "      <td>02-00-00</td>\n",
       "      <td>08/24/2013</td>\n",
       "      <td>12:00:00</td>\n",
       "      <td>REGULAR</td>\n",
       "      <td>4246542</td>\n",
       "      <td>1454333</td>\n",
       "    </tr>\n",
       "    <tr>\n",
       "      <th>4</th>\n",
       "      <td>A002</td>\n",
       "      <td>R051</td>\n",
       "      <td>02-00-00</td>\n",
       "      <td>08/24/2013</td>\n",
       "      <td>16:00:00</td>\n",
       "      <td>REGULAR</td>\n",
       "      <td>4246704</td>\n",
       "      <td>1454379</td>\n",
       "    </tr>\n",
       "  </tbody>\n",
       "</table>\n",
       "</div>"
      ],
      "text/plain": [
       "    C_A  UNIT       SCP        date      time     desc  entries    exits\n",
       "0  A002  R051  02-00-00  08/24/2013   0:00:00  REGULAR  4246425  1454237\n",
       "1  A002  R051  02-00-00  08/24/2013   4:00:00  REGULAR  4246460  1454243\n",
       "2  A002  R051  02-00-00  08/24/2013   8:00:00  REGULAR  4246476  1454267\n",
       "3  A002  R051  02-00-00  08/24/2013  12:00:00  REGULAR  4246542  1454333\n",
       "4  A002  R051  02-00-00  08/24/2013  16:00:00  REGULAR  4246704  1454379"
      ]
     },
     "execution_count": 45,
     "metadata": {},
     "output_type": "execute_result"
    }
   ],
   "source": [
    "data.head()"
   ]
  },
  {
   "cell_type": "markdown",
   "metadata": {},
   "source": [
    "## Convert to datetime and use that as the index"
   ]
  },
  {
   "cell_type": "code",
   "execution_count": 48,
   "metadata": {},
   "outputs": [],
   "source": [
    "def convert_to_datetime(row):\n",
    "    return pd.to_datetime(row['date']+\" \"+row['time'], format=\"%m/%d/%Y %H:%M:%S\")"
   ]
  },
  {
   "cell_type": "code",
   "execution_count": 49,
   "metadata": {},
   "outputs": [],
   "source": [
    "data.index= data.apply(convert_to_datetime, axis=1)"
   ]
  },
  {
   "cell_type": "code",
   "execution_count": 50,
   "metadata": {},
   "outputs": [
    {
     "data": {
      "text/html": [
       "<div>\n",
       "<style>\n",
       "    .dataframe thead tr:only-child th {\n",
       "        text-align: right;\n",
       "    }\n",
       "\n",
       "    .dataframe thead th {\n",
       "        text-align: left;\n",
       "    }\n",
       "\n",
       "    .dataframe tbody tr th {\n",
       "        vertical-align: top;\n",
       "    }\n",
       "</style>\n",
       "<table border=\"1\" class=\"dataframe\">\n",
       "  <thead>\n",
       "    <tr style=\"text-align: right;\">\n",
       "      <th></th>\n",
       "      <th>C_A</th>\n",
       "      <th>UNIT</th>\n",
       "      <th>SCP</th>\n",
       "      <th>date</th>\n",
       "      <th>time</th>\n",
       "      <th>desc</th>\n",
       "      <th>entries</th>\n",
       "      <th>exits</th>\n",
       "    </tr>\n",
       "  </thead>\n",
       "  <tbody>\n",
       "    <tr>\n",
       "      <th>2013-08-24 00:00:00</th>\n",
       "      <td>A002</td>\n",
       "      <td>R051</td>\n",
       "      <td>02-00-00</td>\n",
       "      <td>08/24/2013</td>\n",
       "      <td>0:00:00</td>\n",
       "      <td>REGULAR</td>\n",
       "      <td>4246425</td>\n",
       "      <td>1454237</td>\n",
       "    </tr>\n",
       "    <tr>\n",
       "      <th>2013-08-24 04:00:00</th>\n",
       "      <td>A002</td>\n",
       "      <td>R051</td>\n",
       "      <td>02-00-00</td>\n",
       "      <td>08/24/2013</td>\n",
       "      <td>4:00:00</td>\n",
       "      <td>REGULAR</td>\n",
       "      <td>4246460</td>\n",
       "      <td>1454243</td>\n",
       "    </tr>\n",
       "    <tr>\n",
       "      <th>2013-08-24 08:00:00</th>\n",
       "      <td>A002</td>\n",
       "      <td>R051</td>\n",
       "      <td>02-00-00</td>\n",
       "      <td>08/24/2013</td>\n",
       "      <td>8:00:00</td>\n",
       "      <td>REGULAR</td>\n",
       "      <td>4246476</td>\n",
       "      <td>1454267</td>\n",
       "    </tr>\n",
       "    <tr>\n",
       "      <th>2013-08-24 12:00:00</th>\n",
       "      <td>A002</td>\n",
       "      <td>R051</td>\n",
       "      <td>02-00-00</td>\n",
       "      <td>08/24/2013</td>\n",
       "      <td>12:00:00</td>\n",
       "      <td>REGULAR</td>\n",
       "      <td>4246542</td>\n",
       "      <td>1454333</td>\n",
       "    </tr>\n",
       "    <tr>\n",
       "      <th>2013-08-24 16:00:00</th>\n",
       "      <td>A002</td>\n",
       "      <td>R051</td>\n",
       "      <td>02-00-00</td>\n",
       "      <td>08/24/2013</td>\n",
       "      <td>16:00:00</td>\n",
       "      <td>REGULAR</td>\n",
       "      <td>4246704</td>\n",
       "      <td>1454379</td>\n",
       "    </tr>\n",
       "  </tbody>\n",
       "</table>\n",
       "</div>"
      ],
      "text/plain": [
       "                      C_A  UNIT       SCP        date      time     desc  \\\n",
       "2013-08-24 00:00:00  A002  R051  02-00-00  08/24/2013   0:00:00  REGULAR   \n",
       "2013-08-24 04:00:00  A002  R051  02-00-00  08/24/2013   4:00:00  REGULAR   \n",
       "2013-08-24 08:00:00  A002  R051  02-00-00  08/24/2013   8:00:00  REGULAR   \n",
       "2013-08-24 12:00:00  A002  R051  02-00-00  08/24/2013  12:00:00  REGULAR   \n",
       "2013-08-24 16:00:00  A002  R051  02-00-00  08/24/2013  16:00:00  REGULAR   \n",
       "\n",
       "                     entries    exits  \n",
       "2013-08-24 00:00:00  4246425  1454237  \n",
       "2013-08-24 04:00:00  4246460  1454243  \n",
       "2013-08-24 08:00:00  4246476  1454267  \n",
       "2013-08-24 12:00:00  4246542  1454333  \n",
       "2013-08-24 16:00:00  4246704  1454379  "
      ]
     },
     "execution_count": 50,
     "metadata": {},
     "output_type": "execute_result"
    }
   ],
   "source": [
    "data.head()"
   ]
  },
  {
   "cell_type": "markdown",
   "metadata": {},
   "source": [
    "## What range of days (and time) do we have?"
   ]
  },
  {
   "cell_type": "code",
   "execution_count": 52,
   "metadata": {},
   "outputs": [
    {
     "data": {
      "text/plain": [
       "(Timestamp('2013-08-24 00:00:00'), Timestamp('2013-08-30 23:59:45'))"
      ]
     },
     "execution_count": 52,
     "metadata": {},
     "output_type": "execute_result"
    }
   ],
   "source": [
    "data.index.min(), data.index.max()"
   ]
  },
  {
   "cell_type": "markdown",
   "metadata": {},
   "source": [
    "## Looking at one day: Aug 24th"
   ]
  },
  {
   "cell_type": "code",
   "execution_count": 53,
   "metadata": {},
   "outputs": [
    {
     "data": {
      "text/html": [
       "<div>\n",
       "<style>\n",
       "    .dataframe thead tr:only-child th {\n",
       "        text-align: right;\n",
       "    }\n",
       "\n",
       "    .dataframe thead th {\n",
       "        text-align: left;\n",
       "    }\n",
       "\n",
       "    .dataframe tbody tr th {\n",
       "        vertical-align: top;\n",
       "    }\n",
       "</style>\n",
       "<table border=\"1\" class=\"dataframe\">\n",
       "  <thead>\n",
       "    <tr style=\"text-align: right;\">\n",
       "      <th></th>\n",
       "      <th>C_A</th>\n",
       "      <th>UNIT</th>\n",
       "      <th>SCP</th>\n",
       "      <th>date</th>\n",
       "      <th>time</th>\n",
       "      <th>desc</th>\n",
       "      <th>entries</th>\n",
       "      <th>exits</th>\n",
       "    </tr>\n",
       "  </thead>\n",
       "  <tbody>\n",
       "    <tr>\n",
       "      <th>2013-08-24 00:00:00</th>\n",
       "      <td>A002</td>\n",
       "      <td>R051</td>\n",
       "      <td>02-00-00</td>\n",
       "      <td>08/24/2013</td>\n",
       "      <td>0:00:00</td>\n",
       "      <td>REGULAR</td>\n",
       "      <td>4246425</td>\n",
       "      <td>1454237</td>\n",
       "    </tr>\n",
       "    <tr>\n",
       "      <th>2013-08-24 04:00:00</th>\n",
       "      <td>A002</td>\n",
       "      <td>R051</td>\n",
       "      <td>02-00-00</td>\n",
       "      <td>08/24/2013</td>\n",
       "      <td>4:00:00</td>\n",
       "      <td>REGULAR</td>\n",
       "      <td>4246460</td>\n",
       "      <td>1454243</td>\n",
       "    </tr>\n",
       "    <tr>\n",
       "      <th>2013-08-24 08:00:00</th>\n",
       "      <td>A002</td>\n",
       "      <td>R051</td>\n",
       "      <td>02-00-00</td>\n",
       "      <td>08/24/2013</td>\n",
       "      <td>8:00:00</td>\n",
       "      <td>REGULAR</td>\n",
       "      <td>4246476</td>\n",
       "      <td>1454267</td>\n",
       "    </tr>\n",
       "    <tr>\n",
       "      <th>2013-08-24 12:00:00</th>\n",
       "      <td>A002</td>\n",
       "      <td>R051</td>\n",
       "      <td>02-00-00</td>\n",
       "      <td>08/24/2013</td>\n",
       "      <td>12:00:00</td>\n",
       "      <td>REGULAR</td>\n",
       "      <td>4246542</td>\n",
       "      <td>1454333</td>\n",
       "    </tr>\n",
       "    <tr>\n",
       "      <th>2013-08-24 16:00:00</th>\n",
       "      <td>A002</td>\n",
       "      <td>R051</td>\n",
       "      <td>02-00-00</td>\n",
       "      <td>08/24/2013</td>\n",
       "      <td>16:00:00</td>\n",
       "      <td>REGULAR</td>\n",
       "      <td>4246704</td>\n",
       "      <td>1454379</td>\n",
       "    </tr>\n",
       "    <tr>\n",
       "      <th>2013-08-24 20:00:00</th>\n",
       "      <td>A002</td>\n",
       "      <td>R051</td>\n",
       "      <td>02-00-00</td>\n",
       "      <td>08/24/2013</td>\n",
       "      <td>20:00:00</td>\n",
       "      <td>REGULAR</td>\n",
       "      <td>4246965</td>\n",
       "      <td>1454428</td>\n",
       "    </tr>\n",
       "    <tr>\n",
       "      <th>2013-08-24 00:00:00</th>\n",
       "      <td>A002</td>\n",
       "      <td>R051</td>\n",
       "      <td>02-00-01</td>\n",
       "      <td>08/24/2013</td>\n",
       "      <td>0:00:00</td>\n",
       "      <td>REGULAR</td>\n",
       "      <td>4004581</td>\n",
       "      <td>871141</td>\n",
       "    </tr>\n",
       "    <tr>\n",
       "      <th>2013-08-24 04:00:00</th>\n",
       "      <td>A002</td>\n",
       "      <td>R051</td>\n",
       "      <td>02-00-01</td>\n",
       "      <td>08/24/2013</td>\n",
       "      <td>4:00:00</td>\n",
       "      <td>REGULAR</td>\n",
       "      <td>4004613</td>\n",
       "      <td>871148</td>\n",
       "    </tr>\n",
       "    <tr>\n",
       "      <th>2013-08-24 08:00:00</th>\n",
       "      <td>A002</td>\n",
       "      <td>R051</td>\n",
       "      <td>02-00-01</td>\n",
       "      <td>08/24/2013</td>\n",
       "      <td>8:00:00</td>\n",
       "      <td>REGULAR</td>\n",
       "      <td>4004621</td>\n",
       "      <td>871164</td>\n",
       "    </tr>\n",
       "    <tr>\n",
       "      <th>2013-08-24 12:00:00</th>\n",
       "      <td>A002</td>\n",
       "      <td>R051</td>\n",
       "      <td>02-00-01</td>\n",
       "      <td>08/24/2013</td>\n",
       "      <td>12:00:00</td>\n",
       "      <td>REGULAR</td>\n",
       "      <td>4004692</td>\n",
       "      <td>871210</td>\n",
       "    </tr>\n",
       "    <tr>\n",
       "      <th>2013-08-24 16:00:00</th>\n",
       "      <td>A002</td>\n",
       "      <td>R051</td>\n",
       "      <td>02-00-01</td>\n",
       "      <td>08/24/2013</td>\n",
       "      <td>16:00:00</td>\n",
       "      <td>REGULAR</td>\n",
       "      <td>4004855</td>\n",
       "      <td>871245</td>\n",
       "    </tr>\n",
       "    <tr>\n",
       "      <th>2013-08-24 20:00:00</th>\n",
       "      <td>A002</td>\n",
       "      <td>R051</td>\n",
       "      <td>02-00-01</td>\n",
       "      <td>08/24/2013</td>\n",
       "      <td>20:00:00</td>\n",
       "      <td>REGULAR</td>\n",
       "      <td>4005123</td>\n",
       "      <td>871281</td>\n",
       "    </tr>\n",
       "    <tr>\n",
       "      <th>2013-08-24 00:00:00</th>\n",
       "      <td>A002</td>\n",
       "      <td>R051</td>\n",
       "      <td>02-03-00</td>\n",
       "      <td>08/24/2013</td>\n",
       "      <td>0:00:00</td>\n",
       "      <td>REGULAR</td>\n",
       "      <td>170440</td>\n",
       "      <td>589544</td>\n",
       "    </tr>\n",
       "    <tr>\n",
       "      <th>2013-08-24 04:00:00</th>\n",
       "      <td>A002</td>\n",
       "      <td>R051</td>\n",
       "      <td>02-03-00</td>\n",
       "      <td>08/24/2013</td>\n",
       "      <td>4:00:00</td>\n",
       "      <td>REGULAR</td>\n",
       "      <td>170464</td>\n",
       "      <td>589580</td>\n",
       "    </tr>\n",
       "    <tr>\n",
       "      <th>2013-08-24 08:00:00</th>\n",
       "      <td>A002</td>\n",
       "      <td>R051</td>\n",
       "      <td>02-03-00</td>\n",
       "      <td>08/24/2013</td>\n",
       "      <td>8:00:00</td>\n",
       "      <td>REGULAR</td>\n",
       "      <td>170468</td>\n",
       "      <td>589672</td>\n",
       "    </tr>\n",
       "    <tr>\n",
       "      <th>2013-08-24 12:00:00</th>\n",
       "      <td>A002</td>\n",
       "      <td>R051</td>\n",
       "      <td>02-03-00</td>\n",
       "      <td>08/24/2013</td>\n",
       "      <td>12:00:00</td>\n",
       "      <td>REGULAR</td>\n",
       "      <td>170518</td>\n",
       "      <td>590025</td>\n",
       "    </tr>\n",
       "    <tr>\n",
       "      <th>2013-08-24 16:00:00</th>\n",
       "      <td>A002</td>\n",
       "      <td>R051</td>\n",
       "      <td>02-03-00</td>\n",
       "      <td>08/24/2013</td>\n",
       "      <td>16:00:00</td>\n",
       "      <td>REGULAR</td>\n",
       "      <td>170619</td>\n",
       "      <td>590440</td>\n",
       "    </tr>\n",
       "    <tr>\n",
       "      <th>2013-08-24 20:00:00</th>\n",
       "      <td>A002</td>\n",
       "      <td>R051</td>\n",
       "      <td>02-03-00</td>\n",
       "      <td>08/24/2013</td>\n",
       "      <td>20:00:00</td>\n",
       "      <td>REGULAR</td>\n",
       "      <td>170744</td>\n",
       "      <td>590868</td>\n",
       "    </tr>\n",
       "    <tr>\n",
       "      <th>2013-08-24 00:00:00</th>\n",
       "      <td>A002</td>\n",
       "      <td>R051</td>\n",
       "      <td>02-03-01</td>\n",
       "      <td>08/24/2013</td>\n",
       "      <td>0:00:00</td>\n",
       "      <td>REGULAR</td>\n",
       "      <td>3879768</td>\n",
       "      <td>6051903</td>\n",
       "    </tr>\n",
       "    <tr>\n",
       "      <th>2013-08-24 04:00:00</th>\n",
       "      <td>A002</td>\n",
       "      <td>R051</td>\n",
       "      <td>02-03-01</td>\n",
       "      <td>08/24/2013</td>\n",
       "      <td>4:00:00</td>\n",
       "      <td>REGULAR</td>\n",
       "      <td>3879840</td>\n",
       "      <td>6051966</td>\n",
       "    </tr>\n",
       "  </tbody>\n",
       "</table>\n",
       "</div>"
      ],
      "text/plain": [
       "                      C_A  UNIT       SCP        date      time     desc  \\\n",
       "2013-08-24 00:00:00  A002  R051  02-00-00  08/24/2013   0:00:00  REGULAR   \n",
       "2013-08-24 04:00:00  A002  R051  02-00-00  08/24/2013   4:00:00  REGULAR   \n",
       "2013-08-24 08:00:00  A002  R051  02-00-00  08/24/2013   8:00:00  REGULAR   \n",
       "2013-08-24 12:00:00  A002  R051  02-00-00  08/24/2013  12:00:00  REGULAR   \n",
       "2013-08-24 16:00:00  A002  R051  02-00-00  08/24/2013  16:00:00  REGULAR   \n",
       "2013-08-24 20:00:00  A002  R051  02-00-00  08/24/2013  20:00:00  REGULAR   \n",
       "2013-08-24 00:00:00  A002  R051  02-00-01  08/24/2013   0:00:00  REGULAR   \n",
       "2013-08-24 04:00:00  A002  R051  02-00-01  08/24/2013   4:00:00  REGULAR   \n",
       "2013-08-24 08:00:00  A002  R051  02-00-01  08/24/2013   8:00:00  REGULAR   \n",
       "2013-08-24 12:00:00  A002  R051  02-00-01  08/24/2013  12:00:00  REGULAR   \n",
       "2013-08-24 16:00:00  A002  R051  02-00-01  08/24/2013  16:00:00  REGULAR   \n",
       "2013-08-24 20:00:00  A002  R051  02-00-01  08/24/2013  20:00:00  REGULAR   \n",
       "2013-08-24 00:00:00  A002  R051  02-03-00  08/24/2013   0:00:00  REGULAR   \n",
       "2013-08-24 04:00:00  A002  R051  02-03-00  08/24/2013   4:00:00  REGULAR   \n",
       "2013-08-24 08:00:00  A002  R051  02-03-00  08/24/2013   8:00:00  REGULAR   \n",
       "2013-08-24 12:00:00  A002  R051  02-03-00  08/24/2013  12:00:00  REGULAR   \n",
       "2013-08-24 16:00:00  A002  R051  02-03-00  08/24/2013  16:00:00  REGULAR   \n",
       "2013-08-24 20:00:00  A002  R051  02-03-00  08/24/2013  20:00:00  REGULAR   \n",
       "2013-08-24 00:00:00  A002  R051  02-03-01  08/24/2013   0:00:00  REGULAR   \n",
       "2013-08-24 04:00:00  A002  R051  02-03-01  08/24/2013   4:00:00  REGULAR   \n",
       "\n",
       "                     entries    exits  \n",
       "2013-08-24 00:00:00  4246425  1454237  \n",
       "2013-08-24 04:00:00  4246460  1454243  \n",
       "2013-08-24 08:00:00  4246476  1454267  \n",
       "2013-08-24 12:00:00  4246542  1454333  \n",
       "2013-08-24 16:00:00  4246704  1454379  \n",
       "2013-08-24 20:00:00  4246965  1454428  \n",
       "2013-08-24 00:00:00  4004581   871141  \n",
       "2013-08-24 04:00:00  4004613   871148  \n",
       "2013-08-24 08:00:00  4004621   871164  \n",
       "2013-08-24 12:00:00  4004692   871210  \n",
       "2013-08-24 16:00:00  4004855   871245  \n",
       "2013-08-24 20:00:00  4005123   871281  \n",
       "2013-08-24 00:00:00   170440   589544  \n",
       "2013-08-24 04:00:00   170464   589580  \n",
       "2013-08-24 08:00:00   170468   589672  \n",
       "2013-08-24 12:00:00   170518   590025  \n",
       "2013-08-24 16:00:00   170619   590440  \n",
       "2013-08-24 20:00:00   170744   590868  \n",
       "2013-08-24 00:00:00  3879768  6051903  \n",
       "2013-08-24 04:00:00  3879840  6051966  "
      ]
     },
     "execution_count": 53,
     "metadata": {},
     "output_type": "execute_result"
    }
   ],
   "source": [
    "aug_24= data['2013-08-24']\n",
    "aug_24.head(20)"
   ]
  },
  {
   "cell_type": "code",
   "execution_count": 54,
   "metadata": {},
   "outputs": [],
   "source": [
    "# get start entry and exit tallies per turnstile for that day\n",
    "gr_24_min= aug_24.groupby(['C_A','UNIT','SCP'])[['entries','exits']].min().reset_index()\n",
    "gr_24_min.rename(columns = {'entries':'start_entries','exits':'start_exits'}, inplace = True)\n",
    "\n",
    "# get end entry and exit tallies per turnstile for that day\n",
    "gr_24_max= aug_24.groupby(['C_A','UNIT','SCP'])[['entries','exits']].max().reset_index()\n",
    "gr_24_max.rename(columns = {'entries':'end_entries','exits':'end_exits'}, inplace = True)\n",
    "\n",
    "gr_24_max.drop(['C_A','UNIT','SCP'],axis=1,inplace=True)\n",
    "gr_24 = pd.concat([gr_24_min,gr_24_max],axis=1)\n",
    "\n",
    "del gr_24_max\n",
    "del gr_24_min"
   ]
  },
  {
   "cell_type": "code",
   "execution_count": 55,
   "metadata": {},
   "outputs": [
    {
     "data": {
      "text/html": [
       "<div>\n",
       "<style>\n",
       "    .dataframe thead tr:only-child th {\n",
       "        text-align: right;\n",
       "    }\n",
       "\n",
       "    .dataframe thead th {\n",
       "        text-align: left;\n",
       "    }\n",
       "\n",
       "    .dataframe tbody tr th {\n",
       "        vertical-align: top;\n",
       "    }\n",
       "</style>\n",
       "<table border=\"1\" class=\"dataframe\">\n",
       "  <thead>\n",
       "    <tr style=\"text-align: right;\">\n",
       "      <th></th>\n",
       "      <th>C_A</th>\n",
       "      <th>UNIT</th>\n",
       "      <th>SCP</th>\n",
       "      <th>start_entries</th>\n",
       "      <th>start_exits</th>\n",
       "      <th>end_entries</th>\n",
       "      <th>end_exits</th>\n",
       "    </tr>\n",
       "  </thead>\n",
       "  <tbody>\n",
       "    <tr>\n",
       "      <th>0</th>\n",
       "      <td>A002</td>\n",
       "      <td>R051</td>\n",
       "      <td>02-00-00</td>\n",
       "      <td>4246425</td>\n",
       "      <td>1454237</td>\n",
       "      <td>4246965</td>\n",
       "      <td>1454428</td>\n",
       "    </tr>\n",
       "    <tr>\n",
       "      <th>1</th>\n",
       "      <td>A002</td>\n",
       "      <td>R051</td>\n",
       "      <td>02-00-01</td>\n",
       "      <td>4004581</td>\n",
       "      <td>871141</td>\n",
       "      <td>4005123</td>\n",
       "      <td>871281</td>\n",
       "    </tr>\n",
       "    <tr>\n",
       "      <th>2</th>\n",
       "      <td>A002</td>\n",
       "      <td>R051</td>\n",
       "      <td>02-03-00</td>\n",
       "      <td>170440</td>\n",
       "      <td>589544</td>\n",
       "      <td>170744</td>\n",
       "      <td>590868</td>\n",
       "    </tr>\n",
       "    <tr>\n",
       "      <th>3</th>\n",
       "      <td>A002</td>\n",
       "      <td>R051</td>\n",
       "      <td>02-03-01</td>\n",
       "      <td>3879768</td>\n",
       "      <td>6051903</td>\n",
       "      <td>3880497</td>\n",
       "      <td>6053164</td>\n",
       "    </tr>\n",
       "    <tr>\n",
       "      <th>4</th>\n",
       "      <td>A002</td>\n",
       "      <td>R051</td>\n",
       "      <td>02-03-02</td>\n",
       "      <td>3613094</td>\n",
       "      <td>4985114</td>\n",
       "      <td>3613866</td>\n",
       "      <td>4986101</td>\n",
       "    </tr>\n",
       "  </tbody>\n",
       "</table>\n",
       "</div>"
      ],
      "text/plain": [
       "    C_A  UNIT       SCP  start_entries  start_exits  end_entries  end_exits\n",
       "0  A002  R051  02-00-00        4246425      1454237      4246965    1454428\n",
       "1  A002  R051  02-00-01        4004581       871141      4005123     871281\n",
       "2  A002  R051  02-03-00         170440       589544       170744     590868\n",
       "3  A002  R051  02-03-01        3879768      6051903      3880497    6053164\n",
       "4  A002  R051  02-03-02        3613094      4985114      3613866    4986101"
      ]
     },
     "execution_count": 55,
     "metadata": {},
     "output_type": "execute_result"
    }
   ],
   "source": [
    "gr_24.head()"
   ]
  },
  {
   "cell_type": "markdown",
   "metadata": {},
   "source": [
    "## Entries and exits for that day\n",
    "We'd be in trouble if we saw zero. And they are there."
   ]
  },
  {
   "cell_type": "code",
   "execution_count": 69,
   "metadata": {
    "collapsed": true
   },
   "outputs": [],
   "source": [
    "gr_24['entries'] = gr_24.end_entries - gr_24.start_entries\n",
    "gr_24['exits'] = gr_24.end_exits - gr_24.start_exits"
   ]
  },
  {
   "cell_type": "code",
   "execution_count": 70,
   "metadata": {},
   "outputs": [
    {
     "data": {
      "text/plain": [
       "<matplotlib.axes._subplots.AxesSubplot at 0x118771e80>"
      ]
     },
     "execution_count": 70,
     "metadata": {},
     "output_type": "execute_result"
    },
    {
     "data": {
      "image/png": "[encoded data removed]",
      "text/plain": [
       "<matplotlib.figure.Figure at 0x118733c18>"
      ]
     },
     "metadata": {},
     "output_type": "display_data"
    }
   ],
   "source": [
    "gr_24.entries.plot(figsize=(14,6))"
   ]
  },
  {
   "cell_type": "code",
   "execution_count": 71,
   "metadata": {},
   "outputs": [
    {
     "data": {
      "text/plain": [
       "<matplotlib.axes._subplots.AxesSubplot at 0x10e113d30>"
      ]
     },
     "execution_count": 71,
     "metadata": {},
     "output_type": "execute_result"
    },
    {
     "data": {
      "image/png": "[encoded data removed]",
      "text/plain": [
       "<matplotlib.figure.Figure at 0x10e128da0>"
      ]
     },
     "metadata": {},
     "output_type": "display_data"
    }
   ],
   "source": [
    "gr_24.exits.plot(figsize=(14,6))"
   ]
  },
  {
   "cell_type": "code",
   "execution_count": 72,
   "metadata": {},
   "outputs": [
    {
     "data": {
      "text/html": [
       "<div>\n",
       "<style>\n",
       "    .dataframe thead tr:only-child th {\n",
       "        text-align: right;\n",
       "    }\n",
       "\n",
       "    .dataframe thead th {\n",
       "        text-align: left;\n",
       "    }\n",
       "\n",
       "    .dataframe tbody tr th {\n",
       "        vertical-align: top;\n",
       "    }\n",
       "</style>\n",
       "<table border=\"1\" class=\"dataframe\">\n",
       "  <thead>\n",
       "    <tr style=\"text-align: right;\">\n",
       "      <th></th>\n",
       "      <th>C_A</th>\n",
       "      <th>UNIT</th>\n",
       "      <th>SCP</th>\n",
       "      <th>start_entries</th>\n",
       "      <th>start_exits</th>\n",
       "      <th>end_entries</th>\n",
       "      <th>end_exits</th>\n",
       "      <th>entries</th>\n",
       "      <th>exits</th>\n",
       "    </tr>\n",
       "  </thead>\n",
       "  <tbody>\n",
       "    <tr>\n",
       "      <th>0</th>\n",
       "      <td>A002</td>\n",
       "      <td>R051</td>\n",
       "      <td>02-00-00</td>\n",
       "      <td>4246425</td>\n",
       "      <td>1454237</td>\n",
       "      <td>4246965</td>\n",
       "      <td>1454428</td>\n",
       "      <td>540</td>\n",
       "      <td>191</td>\n",
       "    </tr>\n",
       "    <tr>\n",
       "      <th>1</th>\n",
       "      <td>A002</td>\n",
       "      <td>R051</td>\n",
       "      <td>02-00-01</td>\n",
       "      <td>4004581</td>\n",
       "      <td>871141</td>\n",
       "      <td>4005123</td>\n",
       "      <td>871281</td>\n",
       "      <td>542</td>\n",
       "      <td>140</td>\n",
       "    </tr>\n",
       "    <tr>\n",
       "      <th>2</th>\n",
       "      <td>A002</td>\n",
       "      <td>R051</td>\n",
       "      <td>02-03-00</td>\n",
       "      <td>170440</td>\n",
       "      <td>589544</td>\n",
       "      <td>170744</td>\n",
       "      <td>590868</td>\n",
       "      <td>304</td>\n",
       "      <td>1324</td>\n",
       "    </tr>\n",
       "    <tr>\n",
       "      <th>3</th>\n",
       "      <td>A002</td>\n",
       "      <td>R051</td>\n",
       "      <td>02-03-01</td>\n",
       "      <td>3879768</td>\n",
       "      <td>6051903</td>\n",
       "      <td>3880497</td>\n",
       "      <td>6053164</td>\n",
       "      <td>729</td>\n",
       "      <td>1261</td>\n",
       "    </tr>\n",
       "    <tr>\n",
       "      <th>4</th>\n",
       "      <td>A002</td>\n",
       "      <td>R051</td>\n",
       "      <td>02-03-02</td>\n",
       "      <td>3613094</td>\n",
       "      <td>4985114</td>\n",
       "      <td>3613866</td>\n",
       "      <td>4986101</td>\n",
       "      <td>772</td>\n",
       "      <td>987</td>\n",
       "    </tr>\n",
       "  </tbody>\n",
       "</table>\n",
       "</div>"
      ],
      "text/plain": [
       "    C_A  UNIT       SCP  start_entries  start_exits  end_entries  end_exits  \\\n",
       "0  A002  R051  02-00-00        4246425      1454237      4246965    1454428   \n",
       "1  A002  R051  02-00-01        4004581       871141      4005123     871281   \n",
       "2  A002  R051  02-03-00         170440       589544       170744     590868   \n",
       "3  A002  R051  02-03-01        3879768      6051903      3880497    6053164   \n",
       "4  A002  R051  02-03-02        3613094      4985114      3613866    4986101   \n",
       "\n",
       "   entries  exits  \n",
       "0      540    191  \n",
       "1      542    140  \n",
       "2      304   1324  \n",
       "3      729   1261  \n",
       "4      772    987  "
      ]
     },
     "execution_count": 72,
     "metadata": {},
     "output_type": "execute_result"
    }
   ],
   "source": [
    "gr_24.head()"
   ]
  },
  {
   "cell_type": "markdown",
   "metadata": {},
   "source": [
    "## Outliers are quite high e.g. 6,078 for entries?"
   ]
  },
  {
   "cell_type": "code",
   "execution_count": 73,
   "metadata": {},
   "outputs": [
    {
     "data": {
      "text/plain": [
       "<matplotlib.axes._subplots.AxesSubplot at 0x118784cf8>"
      ]
     },
     "execution_count": 73,
     "metadata": {},
     "output_type": "execute_result"
    },
    {
     "data": {
      "image/png": "[encoded data removed]",
      "text/plain": [
       "<matplotlib.figure.Figure at 0x11053a5f8>"
      ]
     },
     "metadata": {},
     "output_type": "display_data"
    }
   ],
   "source": [
    "gr_24.boxplot(['entries','exits'])"
   ]
  },
  {
   "cell_type": "code",
   "execution_count": 66,
   "metadata": {},
   "outputs": [
    {
     "data": {
      "text/plain": [
       "(6078, 6178)"
      ]
     },
     "execution_count": 66,
     "metadata": {},
     "output_type": "execute_result"
    }
   ],
   "source": [
    "gr_24.entries.max(), gr_24.exits.max()"
   ]
  },
  {
   "cell_type": "markdown",
   "metadata": {},
   "source": [
    "## Entries "
   ]
  },
  {
   "cell_type": "code",
   "execution_count": 74,
   "metadata": {},
   "outputs": [
    {
     "data": {
      "text/plain": [
       "(0, 0)"
      ]
     },
     "execution_count": 74,
     "metadata": {},
     "output_type": "execute_result"
    }
   ],
   "source": [
    "gr_24.entries.min(), gr_24.exits.min()"
   ]
  }
 ],
 "metadata": {
  "kernelspec": {
   "display_name": "Python 3",
   "language": "python",
   "name": "python3"
  },
  "language_info": {
   "codemirror_mode": {
    "name": "ipython",
    "version": 3
   },
   "file_extension": ".py",
   "mimetype": "text/x-python",
   "name": "python",
   "nbconvert_exporter": "python",
   "pygments_lexer": "ipython3",
   "version": "3.6.1"
  }
 },
 "nbformat": 4,
 "nbformat_minor": 2
}
