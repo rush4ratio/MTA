{
 "cells": [
  {
   "cell_type": "code",
   "execution_count": 33,
   "metadata": {
    "collapsed": true
   },
   "outputs": [],
   "source": [
    "import pandas as pd\n",
    "import numpy as np\n",
    "import datetime as dt\n",
    "import matplotlib.pyplot as plt"
   ]
  },
  {
   "cell_type": "code",
   "execution_count": 34,
   "metadata": {
    "collapsed": true
   },
   "outputs": [],
   "source": [
    "%matplotlib inline"
   ]
  },
  {
   "cell_type": "code",
   "execution_count": 35,
   "metadata": {
    "collapsed": true
   },
   "outputs": [],
   "source": [
    "data = pd.read_csv('MTA_130803_Pivotdown.txt')"
   ]
  },
  {
   "cell_type": "markdown",
   "metadata": {},
   "source": [
    "## Let's take a look"
   ]
  },
  {
   "cell_type": "code",
   "execution_count": 36,
   "metadata": {},
   "outputs": [
    {
     "data": {
      "text/html": [
       "<div>\n",
       "<style>\n",
       "    .dataframe thead tr:only-child th {\n",
       "        text-align: right;\n",
       "    }\n",
       "\n",
       "    .dataframe thead th {\n",
       "        text-align: left;\n",
       "    }\n",
       "\n",
       "    .dataframe tbody tr th {\n",
       "        vertical-align: top;\n",
       "    }\n",
       "</style>\n",
       "<table border=\"1\" class=\"dataframe\">\n",
       "  <thead>\n",
       "    <tr style=\"text-align: right;\">\n",
       "      <th></th>\n",
       "      <th>C_A</th>\n",
       "      <th>UNIT</th>\n",
       "      <th>SCP</th>\n",
       "      <th>date</th>\n",
       "      <th>time</th>\n",
       "      <th>desc</th>\n",
       "      <th>entries</th>\n",
       "      <th>exits</th>\n",
       "    </tr>\n",
       "  </thead>\n",
       "  <tbody>\n",
       "    <tr>\n",
       "      <th>0</th>\n",
       "      <td>A002</td>\n",
       "      <td>R051</td>\n",
       "      <td>02-00-00</td>\n",
       "      <td>07/27/2013</td>\n",
       "      <td>0:00:00</td>\n",
       "      <td>REGULAR</td>\n",
       "      <td>4209603</td>\n",
       "      <td>1443585</td>\n",
       "    </tr>\n",
       "    <tr>\n",
       "      <th>1</th>\n",
       "      <td>A002</td>\n",
       "      <td>R051</td>\n",
       "      <td>02-00-00</td>\n",
       "      <td>07/27/2013</td>\n",
       "      <td>4:00:00</td>\n",
       "      <td>REGULAR</td>\n",
       "      <td>4209643</td>\n",
       "      <td>1443593</td>\n",
       "    </tr>\n",
       "    <tr>\n",
       "      <th>2</th>\n",
       "      <td>A002</td>\n",
       "      <td>R051</td>\n",
       "      <td>02-00-00</td>\n",
       "      <td>07/27/2013</td>\n",
       "      <td>8:00:00</td>\n",
       "      <td>REGULAR</td>\n",
       "      <td>4209663</td>\n",
       "      <td>1443616</td>\n",
       "    </tr>\n",
       "    <tr>\n",
       "      <th>3</th>\n",
       "      <td>A002</td>\n",
       "      <td>R051</td>\n",
       "      <td>02-00-00</td>\n",
       "      <td>07/27/2013</td>\n",
       "      <td>12:00:00</td>\n",
       "      <td>REGULAR</td>\n",
       "      <td>4209741</td>\n",
       "      <td>1443687</td>\n",
       "    </tr>\n",
       "    <tr>\n",
       "      <th>4</th>\n",
       "      <td>A002</td>\n",
       "      <td>R051</td>\n",
       "      <td>02-00-00</td>\n",
       "      <td>07/27/2013</td>\n",
       "      <td>16:00:00</td>\n",
       "      <td>REGULAR</td>\n",
       "      <td>4210004</td>\n",
       "      <td>1443740</td>\n",
       "    </tr>\n",
       "  </tbody>\n",
       "</table>\n",
       "</div>"
      ],
      "text/plain": [
       "    C_A  UNIT       SCP        date      time     desc  entries    exits\n",
       "0  A002  R051  02-00-00  07/27/2013   0:00:00  REGULAR  4209603  1443585\n",
       "1  A002  R051  02-00-00  07/27/2013   4:00:00  REGULAR  4209643  1443593\n",
       "2  A002  R051  02-00-00  07/27/2013   8:00:00  REGULAR  4209663  1443616\n",
       "3  A002  R051  02-00-00  07/27/2013  12:00:00  REGULAR  4209741  1443687\n",
       "4  A002  R051  02-00-00  07/27/2013  16:00:00  REGULAR  4210004  1443740"
      ]
     },
     "execution_count": 36,
     "metadata": {},
     "output_type": "execute_result"
    }
   ],
   "source": [
    "data.head()"
   ]
  },
  {
   "cell_type": "markdown",
   "metadata": {},
   "source": [
    "## Convert to datetime and use that as the index"
   ]
  },
  {
   "cell_type": "code",
   "execution_count": 37,
   "metadata": {
    "collapsed": true
   },
   "outputs": [],
   "source": [
    "def convert_to_datetime(row):\n",
    "    return pd.to_datetime(row['date']+\" \"+row['time'], format=\"%m/%d/%Y %H:%M:%S\")"
   ]
  },
  {
   "cell_type": "code",
   "execution_count": 38,
   "metadata": {
    "collapsed": true
   },
   "outputs": [],
   "source": [
    "data.index= data.apply(convert_to_datetime, axis=1)"
   ]
  },
  {
   "cell_type": "code",
   "execution_count": 39,
   "metadata": {},
   "outputs": [
    {
     "data": {
      "text/html": [
       "<div>\n",
       "<style>\n",
       "    .dataframe thead tr:only-child th {\n",
       "        text-align: right;\n",
       "    }\n",
       "\n",
       "    .dataframe thead th {\n",
       "        text-align: left;\n",
       "    }\n",
       "\n",
       "    .dataframe tbody tr th {\n",
       "        vertical-align: top;\n",
       "    }\n",
       "</style>\n",
       "<table border=\"1\" class=\"dataframe\">\n",
       "  <thead>\n",
       "    <tr style=\"text-align: right;\">\n",
       "      <th></th>\n",
       "      <th>C_A</th>\n",
       "      <th>UNIT</th>\n",
       "      <th>SCP</th>\n",
       "      <th>date</th>\n",
       "      <th>time</th>\n",
       "      <th>desc</th>\n",
       "      <th>entries</th>\n",
       "      <th>exits</th>\n",
       "    </tr>\n",
       "  </thead>\n",
       "  <tbody>\n",
       "    <tr>\n",
       "      <th>2013-07-27 00:00:00</th>\n",
       "      <td>A002</td>\n",
       "      <td>R051</td>\n",
       "      <td>02-00-00</td>\n",
       "      <td>07/27/2013</td>\n",
       "      <td>0:00:00</td>\n",
       "      <td>REGULAR</td>\n",
       "      <td>4209603</td>\n",
       "      <td>1443585</td>\n",
       "    </tr>\n",
       "    <tr>\n",
       "      <th>2013-07-27 04:00:00</th>\n",
       "      <td>A002</td>\n",
       "      <td>R051</td>\n",
       "      <td>02-00-00</td>\n",
       "      <td>07/27/2013</td>\n",
       "      <td>4:00:00</td>\n",
       "      <td>REGULAR</td>\n",
       "      <td>4209643</td>\n",
       "      <td>1443593</td>\n",
       "    </tr>\n",
       "    <tr>\n",
       "      <th>2013-07-27 08:00:00</th>\n",
       "      <td>A002</td>\n",
       "      <td>R051</td>\n",
       "      <td>02-00-00</td>\n",
       "      <td>07/27/2013</td>\n",
       "      <td>8:00:00</td>\n",
       "      <td>REGULAR</td>\n",
       "      <td>4209663</td>\n",
       "      <td>1443616</td>\n",
       "    </tr>\n",
       "    <tr>\n",
       "      <th>2013-07-27 12:00:00</th>\n",
       "      <td>A002</td>\n",
       "      <td>R051</td>\n",
       "      <td>02-00-00</td>\n",
       "      <td>07/27/2013</td>\n",
       "      <td>12:00:00</td>\n",
       "      <td>REGULAR</td>\n",
       "      <td>4209741</td>\n",
       "      <td>1443687</td>\n",
       "    </tr>\n",
       "    <tr>\n",
       "      <th>2013-07-27 16:00:00</th>\n",
       "      <td>A002</td>\n",
       "      <td>R051</td>\n",
       "      <td>02-00-00</td>\n",
       "      <td>07/27/2013</td>\n",
       "      <td>16:00:00</td>\n",
       "      <td>REGULAR</td>\n",
       "      <td>4210004</td>\n",
       "      <td>1443740</td>\n",
       "    </tr>\n",
       "  </tbody>\n",
       "</table>\n",
       "</div>"
      ],
      "text/plain": [
       "                      C_A  UNIT       SCP        date      time     desc  \\\n",
       "2013-07-27 00:00:00  A002  R051  02-00-00  07/27/2013   0:00:00  REGULAR   \n",
       "2013-07-27 04:00:00  A002  R051  02-00-00  07/27/2013   4:00:00  REGULAR   \n",
       "2013-07-27 08:00:00  A002  R051  02-00-00  07/27/2013   8:00:00  REGULAR   \n",
       "2013-07-27 12:00:00  A002  R051  02-00-00  07/27/2013  12:00:00  REGULAR   \n",
       "2013-07-27 16:00:00  A002  R051  02-00-00  07/27/2013  16:00:00  REGULAR   \n",
       "\n",
       "                     entries    exits  \n",
       "2013-07-27 00:00:00  4209603  1443585  \n",
       "2013-07-27 04:00:00  4209643  1443593  \n",
       "2013-07-27 08:00:00  4209663  1443616  \n",
       "2013-07-27 12:00:00  4209741  1443687  \n",
       "2013-07-27 16:00:00  4210004  1443740  "
      ]
     },
     "execution_count": 39,
     "metadata": {},
     "output_type": "execute_result"
    }
   ],
   "source": [
    "data.head()"
   ]
  },
  {
   "cell_type": "markdown",
   "metadata": {},
   "source": [
    "## What range of days (and time) do we have?"
   ]
  },
  {
   "cell_type": "code",
   "execution_count": 40,
   "metadata": {},
   "outputs": [
    {
     "data": {
      "text/plain": [
       "(Timestamp('2013-07-27 00:00:00'), Timestamp('2013-08-02 23:59:27'))"
      ]
     },
     "execution_count": 40,
     "metadata": {},
     "output_type": "execute_result"
    }
   ],
   "source": [
    "data.index.min(), data.index.max()"
   ]
  },
  {
   "cell_type": "markdown",
   "metadata": {},
   "source": [
    "## Looking at one day: Aug 1st"
   ]
  },
  {
   "cell_type": "code",
   "execution_count": 53,
   "metadata": {},
   "outputs": [
    {
     "data": {
      "text/html": [
       "<div>\n",
       "<style>\n",
       "    .dataframe thead tr:only-child th {\n",
       "        text-align: right;\n",
       "    }\n",
       "\n",
       "    .dataframe thead th {\n",
       "        text-align: left;\n",
       "    }\n",
       "\n",
       "    .dataframe tbody tr th {\n",
       "        vertical-align: top;\n",
       "    }\n",
       "</style>\n",
       "<table border=\"1\" class=\"dataframe\">\n",
       "  <thead>\n",
       "    <tr style=\"text-align: right;\">\n",
       "      <th></th>\n",
       "      <th>C_A</th>\n",
       "      <th>UNIT</th>\n",
       "      <th>SCP</th>\n",
       "      <th>date</th>\n",
       "      <th>time</th>\n",
       "      <th>desc</th>\n",
       "      <th>entries</th>\n",
       "      <th>exits</th>\n",
       "    </tr>\n",
       "  </thead>\n",
       "  <tbody>\n",
       "    <tr>\n",
       "      <th>2013-08-01 00:00:00</th>\n",
       "      <td>A002</td>\n",
       "      <td>R051</td>\n",
       "      <td>02-00-00</td>\n",
       "      <td>08/01/2013</td>\n",
       "      <td>0:00:00</td>\n",
       "      <td>REGULAR</td>\n",
       "      <td>4215894</td>\n",
       "      <td>1445274</td>\n",
       "    </tr>\n",
       "    <tr>\n",
       "      <th>2013-08-01 04:00:00</th>\n",
       "      <td>A002</td>\n",
       "      <td>R051</td>\n",
       "      <td>02-00-00</td>\n",
       "      <td>08/01/2013</td>\n",
       "      <td>4:00:00</td>\n",
       "      <td>REGULAR</td>\n",
       "      <td>4215928</td>\n",
       "      <td>1445278</td>\n",
       "    </tr>\n",
       "    <tr>\n",
       "      <th>2013-08-01 08:00:00</th>\n",
       "      <td>A002</td>\n",
       "      <td>R051</td>\n",
       "      <td>02-00-00</td>\n",
       "      <td>08/01/2013</td>\n",
       "      <td>8:00:00</td>\n",
       "      <td>REGULAR</td>\n",
       "      <td>4215977</td>\n",
       "      <td>1445362</td>\n",
       "    </tr>\n",
       "    <tr>\n",
       "      <th>2013-08-01 12:00:00</th>\n",
       "      <td>A002</td>\n",
       "      <td>R051</td>\n",
       "      <td>02-00-00</td>\n",
       "      <td>08/01/2013</td>\n",
       "      <td>12:00:00</td>\n",
       "      <td>REGULAR</td>\n",
       "      <td>4216157</td>\n",
       "      <td>1445610</td>\n",
       "    </tr>\n",
       "    <tr>\n",
       "      <th>2013-08-01 16:00:00</th>\n",
       "      <td>A002</td>\n",
       "      <td>R051</td>\n",
       "      <td>02-00-00</td>\n",
       "      <td>08/01/2013</td>\n",
       "      <td>16:00:00</td>\n",
       "      <td>REGULAR</td>\n",
       "      <td>4216460</td>\n",
       "      <td>1445682</td>\n",
       "    </tr>\n",
       "    <tr>\n",
       "      <th>2013-08-01 20:00:00</th>\n",
       "      <td>A002</td>\n",
       "      <td>R051</td>\n",
       "      <td>02-00-00</td>\n",
       "      <td>08/01/2013</td>\n",
       "      <td>20:00:00</td>\n",
       "      <td>REGULAR</td>\n",
       "      <td>4217269</td>\n",
       "      <td>1445750</td>\n",
       "    </tr>\n",
       "    <tr>\n",
       "      <th>2013-08-01 00:00:00</th>\n",
       "      <td>A002</td>\n",
       "      <td>R051</td>\n",
       "      <td>02-00-01</td>\n",
       "      <td>08/01/2013</td>\n",
       "      <td>0:00:00</td>\n",
       "      <td>REGULAR</td>\n",
       "      <td>3982836</td>\n",
       "      <td>865549</td>\n",
       "    </tr>\n",
       "    <tr>\n",
       "      <th>2013-08-01 04:00:00</th>\n",
       "      <td>A002</td>\n",
       "      <td>R051</td>\n",
       "      <td>02-00-01</td>\n",
       "      <td>08/01/2013</td>\n",
       "      <td>4:00:00</td>\n",
       "      <td>REGULAR</td>\n",
       "      <td>3982869</td>\n",
       "      <td>865551</td>\n",
       "    </tr>\n",
       "    <tr>\n",
       "      <th>2013-08-01 08:00:00</th>\n",
       "      <td>A002</td>\n",
       "      <td>R051</td>\n",
       "      <td>02-00-01</td>\n",
       "      <td>08/01/2013</td>\n",
       "      <td>8:00:00</td>\n",
       "      <td>REGULAR</td>\n",
       "      <td>3982895</td>\n",
       "      <td>865599</td>\n",
       "    </tr>\n",
       "    <tr>\n",
       "      <th>2013-08-01 12:00:00</th>\n",
       "      <td>A002</td>\n",
       "      <td>R051</td>\n",
       "      <td>02-00-01</td>\n",
       "      <td>08/01/2013</td>\n",
       "      <td>12:00:00</td>\n",
       "      <td>REGULAR</td>\n",
       "      <td>3983056</td>\n",
       "      <td>865702</td>\n",
       "    </tr>\n",
       "    <tr>\n",
       "      <th>2013-08-01 16:00:00</th>\n",
       "      <td>A002</td>\n",
       "      <td>R051</td>\n",
       "      <td>02-00-01</td>\n",
       "      <td>08/01/2013</td>\n",
       "      <td>16:00:00</td>\n",
       "      <td>REGULAR</td>\n",
       "      <td>3983289</td>\n",
       "      <td>865751</td>\n",
       "    </tr>\n",
       "    <tr>\n",
       "      <th>2013-08-01 20:00:00</th>\n",
       "      <td>A002</td>\n",
       "      <td>R051</td>\n",
       "      <td>02-00-01</td>\n",
       "      <td>08/01/2013</td>\n",
       "      <td>20:00:00</td>\n",
       "      <td>REGULAR</td>\n",
       "      <td>3983946</td>\n",
       "      <td>865802</td>\n",
       "    </tr>\n",
       "    <tr>\n",
       "      <th>2013-08-01 00:00:00</th>\n",
       "      <td>A002</td>\n",
       "      <td>R051</td>\n",
       "      <td>02-03-00</td>\n",
       "      <td>08/01/2013</td>\n",
       "      <td>0:00:00</td>\n",
       "      <td>REGULAR</td>\n",
       "      <td>157133</td>\n",
       "      <td>544563</td>\n",
       "    </tr>\n",
       "    <tr>\n",
       "      <th>2013-08-01 04:00:00</th>\n",
       "      <td>A002</td>\n",
       "      <td>R051</td>\n",
       "      <td>02-03-00</td>\n",
       "      <td>08/01/2013</td>\n",
       "      <td>4:00:00</td>\n",
       "      <td>REGULAR</td>\n",
       "      <td>157138</td>\n",
       "      <td>544577</td>\n",
       "    </tr>\n",
       "    <tr>\n",
       "      <th>2013-08-01 08:00:00</th>\n",
       "      <td>A002</td>\n",
       "      <td>R051</td>\n",
       "      <td>02-03-00</td>\n",
       "      <td>08/01/2013</td>\n",
       "      <td>8:00:00</td>\n",
       "      <td>REGULAR</td>\n",
       "      <td>157152</td>\n",
       "      <td>544807</td>\n",
       "    </tr>\n",
       "    <tr>\n",
       "      <th>2013-08-01 12:00:00</th>\n",
       "      <td>A002</td>\n",
       "      <td>R051</td>\n",
       "      <td>02-03-00</td>\n",
       "      <td>08/01/2013</td>\n",
       "      <td>12:00:00</td>\n",
       "      <td>REGULAR</td>\n",
       "      <td>157222</td>\n",
       "      <td>545581</td>\n",
       "    </tr>\n",
       "    <tr>\n",
       "      <th>2013-08-01 16:00:00</th>\n",
       "      <td>A002</td>\n",
       "      <td>R051</td>\n",
       "      <td>02-03-00</td>\n",
       "      <td>08/01/2013</td>\n",
       "      <td>16:00:00</td>\n",
       "      <td>REGULAR</td>\n",
       "      <td>157328</td>\n",
       "      <td>546034</td>\n",
       "    </tr>\n",
       "    <tr>\n",
       "      <th>2013-08-01 20:00:00</th>\n",
       "      <td>A002</td>\n",
       "      <td>R051</td>\n",
       "      <td>02-03-00</td>\n",
       "      <td>08/01/2013</td>\n",
       "      <td>20:00:00</td>\n",
       "      <td>REGULAR</td>\n",
       "      <td>157596</td>\n",
       "      <td>546630</td>\n",
       "    </tr>\n",
       "    <tr>\n",
       "      <th>2013-08-01 00:00:00</th>\n",
       "      <td>A002</td>\n",
       "      <td>R051</td>\n",
       "      <td>02-03-01</td>\n",
       "      <td>08/01/2013</td>\n",
       "      <td>0:00:00</td>\n",
       "      <td>REGULAR</td>\n",
       "      <td>3850198</td>\n",
       "      <td>6006360</td>\n",
       "    </tr>\n",
       "    <tr>\n",
       "      <th>2013-08-01 04:00:00</th>\n",
       "      <td>A002</td>\n",
       "      <td>R051</td>\n",
       "      <td>02-03-01</td>\n",
       "      <td>08/01/2013</td>\n",
       "      <td>4:00:00</td>\n",
       "      <td>REGULAR</td>\n",
       "      <td>3850239</td>\n",
       "      <td>6006381</td>\n",
       "    </tr>\n",
       "  </tbody>\n",
       "</table>\n",
       "</div>"
      ],
      "text/plain": [
       "                      C_A  UNIT       SCP        date      time     desc  \\\n",
       "2013-08-01 00:00:00  A002  R051  02-00-00  08/01/2013   0:00:00  REGULAR   \n",
       "2013-08-01 04:00:00  A002  R051  02-00-00  08/01/2013   4:00:00  REGULAR   \n",
       "2013-08-01 08:00:00  A002  R051  02-00-00  08/01/2013   8:00:00  REGULAR   \n",
       "2013-08-01 12:00:00  A002  R051  02-00-00  08/01/2013  12:00:00  REGULAR   \n",
       "2013-08-01 16:00:00  A002  R051  02-00-00  08/01/2013  16:00:00  REGULAR   \n",
       "2013-08-01 20:00:00  A002  R051  02-00-00  08/01/2013  20:00:00  REGULAR   \n",
       "2013-08-01 00:00:00  A002  R051  02-00-01  08/01/2013   0:00:00  REGULAR   \n",
       "2013-08-01 04:00:00  A002  R051  02-00-01  08/01/2013   4:00:00  REGULAR   \n",
       "2013-08-01 08:00:00  A002  R051  02-00-01  08/01/2013   8:00:00  REGULAR   \n",
       "2013-08-01 12:00:00  A002  R051  02-00-01  08/01/2013  12:00:00  REGULAR   \n",
       "2013-08-01 16:00:00  A002  R051  02-00-01  08/01/2013  16:00:00  REGULAR   \n",
       "2013-08-01 20:00:00  A002  R051  02-00-01  08/01/2013  20:00:00  REGULAR   \n",
       "2013-08-01 00:00:00  A002  R051  02-03-00  08/01/2013   0:00:00  REGULAR   \n",
       "2013-08-01 04:00:00  A002  R051  02-03-00  08/01/2013   4:00:00  REGULAR   \n",
       "2013-08-01 08:00:00  A002  R051  02-03-00  08/01/2013   8:00:00  REGULAR   \n",
       "2013-08-01 12:00:00  A002  R051  02-03-00  08/01/2013  12:00:00  REGULAR   \n",
       "2013-08-01 16:00:00  A002  R051  02-03-00  08/01/2013  16:00:00  REGULAR   \n",
       "2013-08-01 20:00:00  A002  R051  02-03-00  08/01/2013  20:00:00  REGULAR   \n",
       "2013-08-01 00:00:00  A002  R051  02-03-01  08/01/2013   0:00:00  REGULAR   \n",
       "2013-08-01 04:00:00  A002  R051  02-03-01  08/01/2013   4:00:00  REGULAR   \n",
       "\n",
       "                     entries    exits  \n",
       "2013-08-01 00:00:00  4215894  1445274  \n",
       "2013-08-01 04:00:00  4215928  1445278  \n",
       "2013-08-01 08:00:00  4215977  1445362  \n",
       "2013-08-01 12:00:00  4216157  1445610  \n",
       "2013-08-01 16:00:00  4216460  1445682  \n",
       "2013-08-01 20:00:00  4217269  1445750  \n",
       "2013-08-01 00:00:00  3982836   865549  \n",
       "2013-08-01 04:00:00  3982869   865551  \n",
       "2013-08-01 08:00:00  3982895   865599  \n",
       "2013-08-01 12:00:00  3983056   865702  \n",
       "2013-08-01 16:00:00  3983289   865751  \n",
       "2013-08-01 20:00:00  3983946   865802  \n",
       "2013-08-01 00:00:00   157133   544563  \n",
       "2013-08-01 04:00:00   157138   544577  \n",
       "2013-08-01 08:00:00   157152   544807  \n",
       "2013-08-01 12:00:00   157222   545581  \n",
       "2013-08-01 16:00:00   157328   546034  \n",
       "2013-08-01 20:00:00   157596   546630  \n",
       "2013-08-01 00:00:00  3850198  6006360  \n",
       "2013-08-01 04:00:00  3850239  6006381  "
      ]
     },
     "execution_count": 53,
     "metadata": {},
     "output_type": "execute_result"
    }
   ],
   "source": [
    "aug_1= data['2013-08-01']\n",
    "aug_1.head(20)"
   ]
  },
  {
   "cell_type": "code",
   "execution_count": 54,
   "metadata": {
    "collapsed": true
   },
   "outputs": [],
   "source": [
    "# get start entry and exit tallies per turnstile for that day\n",
    "gr_24_min= aug_1.groupby(['C_A','UNIT','SCP'])[['entries','exits']].min().reset_index()\n",
    "gr_24_min.rename(columns = {'entries':'start_entries','exits':'start_exits'}, inplace = True)\n",
    "\n",
    "# get end entry and exit tallies per turnstile for that day\n",
    "gr_24_max= aug_1.groupby(['C_A','UNIT','SCP'])[['entries','exits']].max().reset_index()\n",
    "gr_24_max.rename(columns = {'entries':'end_entries','exits':'end_exits'}, inplace = True)\n",
    "\n",
    "gr_24_max.drop(['C_A','UNIT','SCP'],axis=1,inplace=True)\n",
    "gr_24 = pd.concat([gr_24_min,gr_24_max],axis=1)\n",
    "\n",
    "del gr_24_max\n",
    "del gr_24_min"
   ]
  },
  {
   "cell_type": "code",
   "execution_count": 55,
   "metadata": {},
   "outputs": [
    {
     "data": {
      "text/html": [
       "<div>\n",
       "<style>\n",
       "    .dataframe thead tr:only-child th {\n",
       "        text-align: right;\n",
       "    }\n",
       "\n",
       "    .dataframe thead th {\n",
       "        text-align: left;\n",
       "    }\n",
       "\n",
       "    .dataframe tbody tr th {\n",
       "        vertical-align: top;\n",
       "    }\n",
       "</style>\n",
       "<table border=\"1\" class=\"dataframe\">\n",
       "  <thead>\n",
       "    <tr style=\"text-align: right;\">\n",
       "      <th></th>\n",
       "      <th>C_A</th>\n",
       "      <th>UNIT</th>\n",
       "      <th>SCP</th>\n",
       "      <th>start_entries</th>\n",
       "      <th>start_exits</th>\n",
       "      <th>end_entries</th>\n",
       "      <th>end_exits</th>\n",
       "    </tr>\n",
       "  </thead>\n",
       "  <tbody>\n",
       "    <tr>\n",
       "      <th>0</th>\n",
       "      <td>A002</td>\n",
       "      <td>R051</td>\n",
       "      <td>02-00-00</td>\n",
       "      <td>4215894</td>\n",
       "      <td>1445274</td>\n",
       "      <td>4217269</td>\n",
       "      <td>1445750</td>\n",
       "    </tr>\n",
       "    <tr>\n",
       "      <th>1</th>\n",
       "      <td>A002</td>\n",
       "      <td>R051</td>\n",
       "      <td>02-00-01</td>\n",
       "      <td>3982836</td>\n",
       "      <td>865549</td>\n",
       "      <td>3983946</td>\n",
       "      <td>865802</td>\n",
       "    </tr>\n",
       "    <tr>\n",
       "      <th>2</th>\n",
       "      <td>A002</td>\n",
       "      <td>R051</td>\n",
       "      <td>02-03-00</td>\n",
       "      <td>157133</td>\n",
       "      <td>544563</td>\n",
       "      <td>157596</td>\n",
       "      <td>546630</td>\n",
       "    </tr>\n",
       "    <tr>\n",
       "      <th>3</th>\n",
       "      <td>A002</td>\n",
       "      <td>R051</td>\n",
       "      <td>02-03-01</td>\n",
       "      <td>3850198</td>\n",
       "      <td>6006360</td>\n",
       "      <td>3851325</td>\n",
       "      <td>6008456</td>\n",
       "    </tr>\n",
       "    <tr>\n",
       "      <th>4</th>\n",
       "      <td>A002</td>\n",
       "      <td>R051</td>\n",
       "      <td>02-03-02</td>\n",
       "      <td>3581518</td>\n",
       "      <td>4947096</td>\n",
       "      <td>3582677</td>\n",
       "      <td>4948932</td>\n",
       "    </tr>\n",
       "  </tbody>\n",
       "</table>\n",
       "</div>"
      ],
      "text/plain": [
       "    C_A  UNIT       SCP  start_entries  start_exits  end_entries  end_exits\n",
       "0  A002  R051  02-00-00        4215894      1445274      4217269    1445750\n",
       "1  A002  R051  02-00-01        3982836       865549      3983946     865802\n",
       "2  A002  R051  02-03-00         157133       544563       157596     546630\n",
       "3  A002  R051  02-03-01        3850198      6006360      3851325    6008456\n",
       "4  A002  R051  02-03-02        3581518      4947096      3582677    4948932"
      ]
     },
     "execution_count": 55,
     "metadata": {},
     "output_type": "execute_result"
    }
   ],
   "source": [
    "gr_24.head()"
   ]
  },
  {
   "cell_type": "markdown",
   "metadata": {},
   "source": [
    "## Entries and exits for that day\n",
    "We'd be in trouble if we saw zero. And they are there."
   ]
  },
  {
   "cell_type": "code",
   "execution_count": 56,
   "metadata": {
    "collapsed": true
   },
   "outputs": [],
   "source": [
    "gr_24['entries'] = gr_24.end_entries - gr_24.start_entries\n",
    "gr_24['exits'] = gr_24.end_exits - gr_24.start_exits"
   ]
  },
  {
   "cell_type": "code",
   "execution_count": 57,
   "metadata": {},
   "outputs": [
    {
     "data": {
      "text/plain": [
       "<matplotlib.axes._subplots.AxesSubplot at 0x11d7bab70>"
      ]
     },
     "execution_count": 57,
     "metadata": {},
     "output_type": "execute_result"
    },
    {
     "data": {
      "image/png": "[encoded data removed]",
      "text/plain": [
       "<matplotlib.figure.Figure at 0x11d7b09e8>"
      ]
     },
     "metadata": {},
     "output_type": "display_data"
    }
   ],
   "source": [
    "gr_24.entries.plot(figsize=(14,6))"
   ]
  },
  {
   "cell_type": "code",
   "execution_count": 58,
   "metadata": {},
   "outputs": [
    {
     "data": {
      "text/plain": [
       "<matplotlib.axes._subplots.AxesSubplot at 0x1112bc630>"
      ]
     },
     "execution_count": 58,
     "metadata": {},
     "output_type": "execute_result"
    },
    {
     "data": {
      "image/png": "[encoded data removed]",
      "text/plain": [
       "<matplotlib.figure.Figure at 0x1112cb080>"
      ]
     },
     "metadata": {},
     "output_type": "display_data"
    }
   ],
   "source": [
    "gr_24.exits.plot(figsize=(14,6))"
   ]
  },
  {
   "cell_type": "code",
   "execution_count": 59,
   "metadata": {},
   "outputs": [
    {
     "data": {
      "text/html": [
       "<div>\n",
       "<style>\n",
       "    .dataframe thead tr:only-child th {\n",
       "        text-align: right;\n",
       "    }\n",
       "\n",
       "    .dataframe thead th {\n",
       "        text-align: left;\n",
       "    }\n",
       "\n",
       "    .dataframe tbody tr th {\n",
       "        vertical-align: top;\n",
       "    }\n",
       "</style>\n",
       "<table border=\"1\" class=\"dataframe\">\n",
       "  <thead>\n",
       "    <tr style=\"text-align: right;\">\n",
       "      <th></th>\n",
       "      <th>C_A</th>\n",
       "      <th>UNIT</th>\n",
       "      <th>SCP</th>\n",
       "      <th>start_entries</th>\n",
       "      <th>start_exits</th>\n",
       "      <th>end_entries</th>\n",
       "      <th>end_exits</th>\n",
       "      <th>entries</th>\n",
       "      <th>exits</th>\n",
       "    </tr>\n",
       "  </thead>\n",
       "  <tbody>\n",
       "    <tr>\n",
       "      <th>0</th>\n",
       "      <td>A002</td>\n",
       "      <td>R051</td>\n",
       "      <td>02-00-00</td>\n",
       "      <td>4215894</td>\n",
       "      <td>1445274</td>\n",
       "      <td>4217269</td>\n",
       "      <td>1445750</td>\n",
       "      <td>1375</td>\n",
       "      <td>476</td>\n",
       "    </tr>\n",
       "    <tr>\n",
       "      <th>1</th>\n",
       "      <td>A002</td>\n",
       "      <td>R051</td>\n",
       "      <td>02-00-01</td>\n",
       "      <td>3982836</td>\n",
       "      <td>865549</td>\n",
       "      <td>3983946</td>\n",
       "      <td>865802</td>\n",
       "      <td>1110</td>\n",
       "      <td>253</td>\n",
       "    </tr>\n",
       "    <tr>\n",
       "      <th>2</th>\n",
       "      <td>A002</td>\n",
       "      <td>R051</td>\n",
       "      <td>02-03-00</td>\n",
       "      <td>157133</td>\n",
       "      <td>544563</td>\n",
       "      <td>157596</td>\n",
       "      <td>546630</td>\n",
       "      <td>463</td>\n",
       "      <td>2067</td>\n",
       "    </tr>\n",
       "    <tr>\n",
       "      <th>3</th>\n",
       "      <td>A002</td>\n",
       "      <td>R051</td>\n",
       "      <td>02-03-01</td>\n",
       "      <td>3850198</td>\n",
       "      <td>6006360</td>\n",
       "      <td>3851325</td>\n",
       "      <td>6008456</td>\n",
       "      <td>1127</td>\n",
       "      <td>2096</td>\n",
       "    </tr>\n",
       "    <tr>\n",
       "      <th>4</th>\n",
       "      <td>A002</td>\n",
       "      <td>R051</td>\n",
       "      <td>02-03-02</td>\n",
       "      <td>3581518</td>\n",
       "      <td>4947096</td>\n",
       "      <td>3582677</td>\n",
       "      <td>4948932</td>\n",
       "      <td>1159</td>\n",
       "      <td>1836</td>\n",
       "    </tr>\n",
       "  </tbody>\n",
       "</table>\n",
       "</div>"
      ],
      "text/plain": [
       "    C_A  UNIT       SCP  start_entries  start_exits  end_entries  end_exits  \\\n",
       "0  A002  R051  02-00-00        4215894      1445274      4217269    1445750   \n",
       "1  A002  R051  02-00-01        3982836       865549      3983946     865802   \n",
       "2  A002  R051  02-03-00         157133       544563       157596     546630   \n",
       "3  A002  R051  02-03-01        3850198      6006360      3851325    6008456   \n",
       "4  A002  R051  02-03-02        3581518      4947096      3582677    4948932   \n",
       "\n",
       "   entries  exits  \n",
       "0     1375    476  \n",
       "1     1110    253  \n",
       "2      463   2067  \n",
       "3     1127   2096  \n",
       "4     1159   1836  "
      ]
     },
     "execution_count": 59,
     "metadata": {},
     "output_type": "execute_result"
    }
   ],
   "source": [
    "gr_24.head()"
   ]
  },
  {
   "cell_type": "markdown",
   "metadata": {},
   "source": [
    "## Outliers are too high for both entries and exits?"
   ]
  },
  {
   "cell_type": "code",
   "execution_count": 60,
   "metadata": {},
   "outputs": [
    {
     "data": {
      "text/plain": [
       "<matplotlib.axes._subplots.AxesSubplot at 0x11135ab38>"
      ]
     },
     "execution_count": 60,
     "metadata": {},
     "output_type": "execute_result"
    },
    {
     "data": {
      "image/png": "[encoded data removed]",
      "text/plain": [
       "<matplotlib.figure.Figure at 0x111375438>"
      ]
     },
     "metadata": {},
     "output_type": "display_data"
    }
   ],
   "source": [
    "gr_24.boxplot(['entries','exits'])"
   ]
  },
  {
   "cell_type": "code",
   "execution_count": 49,
   "metadata": {},
   "outputs": [
    {
     "data": {
      "text/plain": [
       "(5155179, 5719177)"
      ]
     },
     "execution_count": 49,
     "metadata": {},
     "output_type": "execute_result"
    }
   ],
   "source": [
    "gr_24.entries.max(), gr_24.exits.max()"
   ]
  },
  {
   "cell_type": "markdown",
   "metadata": {},
   "source": [
    "## Entries "
   ]
  },
  {
   "cell_type": "code",
   "execution_count": 50,
   "metadata": {},
   "outputs": [
    {
     "data": {
      "text/plain": [
       "(0, 0)"
      ]
     },
     "execution_count": 50,
     "metadata": {},
     "output_type": "execute_result"
    }
   ],
   "source": [
    "gr_24.entries.min(), gr_24.exits.min()"
   ]
  },
  {
   "cell_type": "code",
   "execution_count": 52,
   "metadata": {
    "collapsed": true
   },
   "outputs": [],
   "source": [
    "gr_24.to_csv('01_08_2013_mta.csv', index=False)"
   ]
  },
  {
   "cell_type": "code",
   "execution_count": null,
   "metadata": {
    "collapsed": true
   },
   "outputs": [],
   "source": []
  }
 ],
 "metadata": {
  "kernelspec": {
   "display_name": "Python 3",
   "language": "python",
   "name": "python3"
  },
  "language_info": {
   "codemirror_mode": {
    "name": "ipython",
    "version": 3
   },
   "file_extension": ".py",
   "mimetype": "text/x-python",
   "name": "python",
   "nbconvert_exporter": "python",
   "pygments_lexer": "ipython3",
   "version": "3.6.1"
  }
 },
 "nbformat": 4,
 "nbformat_minor": 2
}
